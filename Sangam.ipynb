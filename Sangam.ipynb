{
  "nbformat": 4,
  "nbformat_minor": 0,
  "metadata": {
    "colab": {
      "name": "Sangam",
      "version": "0.3.2",
      "provenance": [],
      "collapsed_sections": []
    },
    "kernelspec": {
      "name": "python3",
      "display_name": "Python 3"
    }
  },
  "cells": [
    {
      "cell_type": "code",
      "metadata": {
        "id": "kndCPUCnP4z6",
        "colab_type": "code",
        "colab": {
          "base_uri": "https://localhost:8080/",
          "height": 122
        },
        "outputId": "160d6383-caad-4ee7-f09c-055d581dc601"
      },
      "source": [
        "import pandas as pd\n",
        "import numpy as np\n",
        "import math\n",
        "from sklearn import preprocessing\n",
        "import matplotlib.pyplot as plt\n",
        "from google.colab import drive\n",
        "drive.mount('/content/drive')"
      ],
      "execution_count": 2,
      "outputs": [
        {
          "output_type": "stream",
          "text": [
            "Go to this URL in a browser: https://accounts.google.com/o/oauth2/auth?client_id=947318989803-6bn6qk8qdgf4n4g3pfee6491hc0brc4i.apps.googleusercontent.com&redirect_uri=urn%3Aietf%3Awg%3Aoauth%3A2.0%3Aoob&scope=email%20https%3A%2F%2Fwww.googleapis.com%2Fauth%2Fdocs.test%20https%3A%2F%2Fwww.googleapis.com%2Fauth%2Fdrive%20https%3A%2F%2Fwww.googleapis.com%2Fauth%2Fdrive.photos.readonly%20https%3A%2F%2Fwww.googleapis.com%2Fauth%2Fpeopleapi.readonly&response_type=code\n",
            "\n",
            "Enter your authorization code:\n",
            "··········\n",
            "Mounted at /content/drive\n"
          ],
          "name": "stdout"
        }
      ]
    },
    {
      "cell_type": "code",
      "metadata": {
        "id": "gMWaKxeKP-b9",
        "colab_type": "code",
        "colab": {}
      },
      "source": [
        "train=pd.read_csv('/content/drive/My Drive/Sangam/DataSets/Train.csv')\n",
        "test=pd.read_csv('/content/drive/My Drive/Sangam/DataSets/Test.csv')"
      ],
      "execution_count": 0,
      "outputs": []
    },
    {
      "cell_type": "code",
      "metadata": {
        "id": "YghFhgR2QfqX",
        "colab_type": "code",
        "colab": {
          "base_uri": "https://localhost:8080/",
          "height": 388
        },
        "outputId": "57399951-83b2-4879-f1c6-e986111b3874"
      },
      "source": [
        "train.head()"
      ],
      "execution_count": 170,
      "outputs": [
        {
          "output_type": "execute_result",
          "data": {
            "text/html": [
              "<div>\n",
              "<style scoped>\n",
              "    .dataframe tbody tr th:only-of-type {\n",
              "        vertical-align: middle;\n",
              "    }\n",
              "\n",
              "    .dataframe tbody tr th {\n",
              "        vertical-align: top;\n",
              "    }\n",
              "\n",
              "    .dataframe thead th {\n",
              "        text-align: right;\n",
              "    }\n",
              "</style>\n",
              "<table border=\"1\" class=\"dataframe\">\n",
              "  <thead>\n",
              "    <tr style=\"text-align: right;\">\n",
              "      <th></th>\n",
              "      <th>date_time</th>\n",
              "      <th>is_holiday</th>\n",
              "      <th>air_pollution_index</th>\n",
              "      <th>humidity</th>\n",
              "      <th>wind_speed</th>\n",
              "      <th>wind_direction</th>\n",
              "      <th>visibility_in_miles</th>\n",
              "      <th>dew_point</th>\n",
              "      <th>temperature</th>\n",
              "      <th>rain_p_h</th>\n",
              "      <th>snow_p_h</th>\n",
              "      <th>clouds_all</th>\n",
              "      <th>weather_type</th>\n",
              "      <th>weather_description</th>\n",
              "      <th>traffic_volume</th>\n",
              "    </tr>\n",
              "  </thead>\n",
              "  <tbody>\n",
              "    <tr>\n",
              "      <th>0</th>\n",
              "      <td>2012-10-02 09:00:00</td>\n",
              "      <td>None</td>\n",
              "      <td>121</td>\n",
              "      <td>89</td>\n",
              "      <td>2</td>\n",
              "      <td>329</td>\n",
              "      <td>1</td>\n",
              "      <td>1</td>\n",
              "      <td>288.28</td>\n",
              "      <td>0.0</td>\n",
              "      <td>0.0</td>\n",
              "      <td>40</td>\n",
              "      <td>Clouds</td>\n",
              "      <td>scattered clouds</td>\n",
              "      <td>5545</td>\n",
              "    </tr>\n",
              "    <tr>\n",
              "      <th>1</th>\n",
              "      <td>2012-10-02 10:00:00</td>\n",
              "      <td>None</td>\n",
              "      <td>178</td>\n",
              "      <td>67</td>\n",
              "      <td>3</td>\n",
              "      <td>330</td>\n",
              "      <td>1</td>\n",
              "      <td>1</td>\n",
              "      <td>289.36</td>\n",
              "      <td>0.0</td>\n",
              "      <td>0.0</td>\n",
              "      <td>75</td>\n",
              "      <td>Clouds</td>\n",
              "      <td>broken clouds</td>\n",
              "      <td>4516</td>\n",
              "    </tr>\n",
              "    <tr>\n",
              "      <th>2</th>\n",
              "      <td>2012-10-02 11:00:00</td>\n",
              "      <td>None</td>\n",
              "      <td>113</td>\n",
              "      <td>66</td>\n",
              "      <td>3</td>\n",
              "      <td>329</td>\n",
              "      <td>2</td>\n",
              "      <td>2</td>\n",
              "      <td>289.58</td>\n",
              "      <td>0.0</td>\n",
              "      <td>0.0</td>\n",
              "      <td>90</td>\n",
              "      <td>Clouds</td>\n",
              "      <td>overcast clouds</td>\n",
              "      <td>4767</td>\n",
              "    </tr>\n",
              "    <tr>\n",
              "      <th>3</th>\n",
              "      <td>2012-10-02 12:00:00</td>\n",
              "      <td>None</td>\n",
              "      <td>20</td>\n",
              "      <td>66</td>\n",
              "      <td>3</td>\n",
              "      <td>329</td>\n",
              "      <td>5</td>\n",
              "      <td>5</td>\n",
              "      <td>290.13</td>\n",
              "      <td>0.0</td>\n",
              "      <td>0.0</td>\n",
              "      <td>90</td>\n",
              "      <td>Clouds</td>\n",
              "      <td>overcast clouds</td>\n",
              "      <td>5026</td>\n",
              "    </tr>\n",
              "    <tr>\n",
              "      <th>4</th>\n",
              "      <td>2012-10-02 13:00:00</td>\n",
              "      <td>None</td>\n",
              "      <td>281</td>\n",
              "      <td>65</td>\n",
              "      <td>3</td>\n",
              "      <td>329</td>\n",
              "      <td>7</td>\n",
              "      <td>7</td>\n",
              "      <td>291.14</td>\n",
              "      <td>0.0</td>\n",
              "      <td>0.0</td>\n",
              "      <td>75</td>\n",
              "      <td>Clouds</td>\n",
              "      <td>broken clouds</td>\n",
              "      <td>4918</td>\n",
              "    </tr>\n",
              "  </tbody>\n",
              "</table>\n",
              "</div>"
            ],
            "text/plain": [
              "             date_time is_holiday  ...  weather_description  traffic_volume\n",
              "0  2012-10-02 09:00:00       None  ...     scattered clouds            5545\n",
              "1  2012-10-02 10:00:00       None  ...        broken clouds            4516\n",
              "2  2012-10-02 11:00:00       None  ...      overcast clouds            4767\n",
              "3  2012-10-02 12:00:00       None  ...      overcast clouds            5026\n",
              "4  2012-10-02 13:00:00       None  ...        broken clouds            4918\n",
              "\n",
              "[5 rows x 15 columns]"
            ]
          },
          "metadata": {
            "tags": []
          },
          "execution_count": 170
        }
      ]
    },
    {
      "cell_type": "code",
      "metadata": {
        "id": "yuMn07sqQhG1",
        "colab_type": "code",
        "colab": {
          "base_uri": "https://localhost:8080/",
          "height": 388
        },
        "outputId": "20dc8eac-7d64-4d4d-d00c-c54df0c1d9f7"
      },
      "source": [
        "test.head()"
      ],
      "execution_count": 171,
      "outputs": [
        {
          "output_type": "execute_result",
          "data": {
            "text/html": [
              "<div>\n",
              "<style scoped>\n",
              "    .dataframe tbody tr th:only-of-type {\n",
              "        vertical-align: middle;\n",
              "    }\n",
              "\n",
              "    .dataframe tbody tr th {\n",
              "        vertical-align: top;\n",
              "    }\n",
              "\n",
              "    .dataframe thead th {\n",
              "        text-align: right;\n",
              "    }\n",
              "</style>\n",
              "<table border=\"1\" class=\"dataframe\">\n",
              "  <thead>\n",
              "    <tr style=\"text-align: right;\">\n",
              "      <th></th>\n",
              "      <th>date_time</th>\n",
              "      <th>is_holiday</th>\n",
              "      <th>air_pollution_index</th>\n",
              "      <th>humidity</th>\n",
              "      <th>wind_speed</th>\n",
              "      <th>wind_direction</th>\n",
              "      <th>visibility_in_miles</th>\n",
              "      <th>dew_point</th>\n",
              "      <th>temperature</th>\n",
              "      <th>rain_p_h</th>\n",
              "      <th>snow_p_h</th>\n",
              "      <th>clouds_all</th>\n",
              "      <th>weather_type</th>\n",
              "      <th>weather_description</th>\n",
              "    </tr>\n",
              "  </thead>\n",
              "  <tbody>\n",
              "    <tr>\n",
              "      <th>0</th>\n",
              "      <td>2017-05-18 00:00:00</td>\n",
              "      <td>None</td>\n",
              "      <td>73</td>\n",
              "      <td>63</td>\n",
              "      <td>1</td>\n",
              "      <td>27</td>\n",
              "      <td>4</td>\n",
              "      <td>4</td>\n",
              "      <td>285.15</td>\n",
              "      <td>0.0</td>\n",
              "      <td>0</td>\n",
              "      <td>90</td>\n",
              "      <td>Rain</td>\n",
              "      <td>moderate rain</td>\n",
              "    </tr>\n",
              "    <tr>\n",
              "      <th>1</th>\n",
              "      <td>2017-05-18 00:00:00</td>\n",
              "      <td>None</td>\n",
              "      <td>251</td>\n",
              "      <td>63</td>\n",
              "      <td>1</td>\n",
              "      <td>27</td>\n",
              "      <td>4</td>\n",
              "      <td>4</td>\n",
              "      <td>285.15</td>\n",
              "      <td>0.0</td>\n",
              "      <td>0</td>\n",
              "      <td>90</td>\n",
              "      <td>Mist</td>\n",
              "      <td>mist</td>\n",
              "    </tr>\n",
              "    <tr>\n",
              "      <th>2</th>\n",
              "      <td>2017-05-18 00:00:00</td>\n",
              "      <td>None</td>\n",
              "      <td>75</td>\n",
              "      <td>56</td>\n",
              "      <td>1</td>\n",
              "      <td>0</td>\n",
              "      <td>1</td>\n",
              "      <td>1</td>\n",
              "      <td>285.15</td>\n",
              "      <td>0.0</td>\n",
              "      <td>0</td>\n",
              "      <td>90</td>\n",
              "      <td>Drizzle</td>\n",
              "      <td>light intensity drizzle</td>\n",
              "    </tr>\n",
              "    <tr>\n",
              "      <th>3</th>\n",
              "      <td>2017-05-18 01:00:00</td>\n",
              "      <td>None</td>\n",
              "      <td>98</td>\n",
              "      <td>56</td>\n",
              "      <td>1</td>\n",
              "      <td>351</td>\n",
              "      <td>2</td>\n",
              "      <td>2</td>\n",
              "      <td>284.79</td>\n",
              "      <td>0.0</td>\n",
              "      <td>0</td>\n",
              "      <td>90</td>\n",
              "      <td>Rain</td>\n",
              "      <td>heavy intensity rain</td>\n",
              "    </tr>\n",
              "    <tr>\n",
              "      <th>4</th>\n",
              "      <td>2017-05-18 01:00:00</td>\n",
              "      <td>None</td>\n",
              "      <td>283</td>\n",
              "      <td>56</td>\n",
              "      <td>1</td>\n",
              "      <td>351</td>\n",
              "      <td>1</td>\n",
              "      <td>1</td>\n",
              "      <td>284.79</td>\n",
              "      <td>0.0</td>\n",
              "      <td>0</td>\n",
              "      <td>90</td>\n",
              "      <td>Mist</td>\n",
              "      <td>mist</td>\n",
              "    </tr>\n",
              "  </tbody>\n",
              "</table>\n",
              "</div>"
            ],
            "text/plain": [
              "             date_time is_holiday  ...  weather_type      weather_description\n",
              "0  2017-05-18 00:00:00       None  ...          Rain            moderate rain\n",
              "1  2017-05-18 00:00:00       None  ...          Mist                     mist\n",
              "2  2017-05-18 00:00:00       None  ...       Drizzle  light intensity drizzle\n",
              "3  2017-05-18 01:00:00       None  ...          Rain     heavy intensity rain\n",
              "4  2017-05-18 01:00:00       None  ...          Mist                     mist\n",
              "\n",
              "[5 rows x 14 columns]"
            ]
          },
          "metadata": {
            "tags": []
          },
          "execution_count": 171
        }
      ]
    },
    {
      "cell_type": "code",
      "metadata": {
        "id": "G5oqm-giQkFA",
        "colab_type": "code",
        "colab": {
          "base_uri": "https://localhost:8080/",
          "height": 290
        },
        "outputId": "e4a82983-9137-47f0-d4ae-10924f89d345"
      },
      "source": [
        "len(train.columns),list(train.columns)"
      ],
      "execution_count": 51,
      "outputs": [
        {
          "output_type": "execute_result",
          "data": {
            "text/plain": [
              "(15,\n",
              " ['date_time',\n",
              "  'is_holiday',\n",
              "  'air_pollution_index',\n",
              "  'humidity',\n",
              "  'wind_speed',\n",
              "  'wind_direction',\n",
              "  'visibility_in_miles',\n",
              "  'dew_point',\n",
              "  'temperature',\n",
              "  'rain_p_h',\n",
              "  'snow_p_h',\n",
              "  'clouds_all',\n",
              "  'weather_type',\n",
              "  'weather_description',\n",
              "  'traffic_volume'])"
            ]
          },
          "metadata": {
            "tags": []
          },
          "execution_count": 51
        }
      ]
    },
    {
      "cell_type": "code",
      "metadata": {
        "id": "8Mj2T3RnQwu8",
        "colab_type": "code",
        "colab": {
          "base_uri": "https://localhost:8080/",
          "height": 34
        },
        "outputId": "4984ce48-47b2-4cc1-a1a4-3e2da73f11af"
      },
      "source": [
        "print(len(train),len(test))"
      ],
      "execution_count": 52,
      "outputs": [
        {
          "output_type": "stream",
          "text": [
            "33750 14454\n"
          ],
          "name": "stdout"
        }
      ]
    },
    {
      "cell_type": "code",
      "metadata": {
        "id": "fTk8Y5XxSFqq",
        "colab_type": "code",
        "colab": {}
      },
      "source": [
        "def convert_to_cat(col,data):\n",
        "  # Create a label (category) encoder object\n",
        "  le = preprocessing.LabelEncoder()\n",
        "  # Fit the encoder to the pandas column\n",
        "  data[col] = data[col].astype('|S80') \n",
        "  le.fit(data[col])\n",
        "  # View the labels (if you want)\n",
        "  #print(list(le.classes_))\n",
        "  # Apply the fitted encoder to the pandas column\n",
        "  data[col]=(le.transform(data[col])).astype('float64')\n",
        "  #print(data[col].head())\n",
        "  #print('\\n')\n",
        "  # Convert some integers into their category names\n",
        "  #list(le.inverse_transform([2, 2, 1]))"
      ],
      "execution_count": 0,
      "outputs": []
    },
    {
      "cell_type": "code",
      "metadata": {
        "id": "MWEpqiI9RJpb",
        "colab_type": "code",
        "colab": {}
      },
      "source": [
        "def preprocess(data):\n",
        "  cat=[]\n",
        "  data=data.drop(columns=['date_time'])\n",
        "  for i in data.columns:\n",
        "    print(i, \"-->>> \",data[i].dtype)\n",
        "    if(data[i].dtype=='object'):\n",
        "      cat.append(i)\n",
        "  #print('\\n')    \n",
        "  #cat\n",
        "  #print(cat)\n",
        "  for col in cat:\n",
        "    convert_to_cat(col,data)\n",
        "    #data=train_data.fillna(0)\n",
        "  #print(train_data['type_of_shot'])\n",
        "  #X_df=train_data.drop(columns=['is_goal','shot_id_number'])\n",
        "  Y=data['traffic_volume']\n",
        "  X_df=data\n",
        "  X_df=X_df.drop(columns=['traffic_volume'])\n",
        "  print(X_df.head())\n",
        "  X=X_df.as_matrix()\n",
        "  print(\"Attributes=:\",X.shape[1])\n",
        "  #X = preprocessing.scale(X)\n",
        "  return X,Y\n",
        "\n",
        "def preprocess_test(data):\n",
        "  cat=[]\n",
        "  data=data.drop(columns=['date_time'])\n",
        "  for i in data.columns:\n",
        "    print(i, \"-->>> \",data[i].dtype)\n",
        "    if(data[i].dtype=='object'):\n",
        "      cat.append(i)\n",
        "  #print('\\n')    \n",
        "  #cat\n",
        "  #print(cat)\n",
        "  for col in cat:\n",
        "    convert_to_cat(col,data)\n",
        "    #data=train_data.fillna(0)\n",
        "  #print(train_data['type_of_shot'])\n",
        "  #X_df=train_data.drop(columns=['is_goal','shot_id_number'])\n",
        "  #Y=data['traffic_volume']\n",
        "  X_df=data\n",
        "  #X_df=X_df.drop(columns=['traffic_volume'])\n",
        "  print(X_df.head())\n",
        "  X=X_df.as_matrix()\n",
        "  print(\"Attributes=:\",X.shape[1])\n",
        "  #X = preprocessing.scale(X)\n",
        "  return X\n"
      ],
      "execution_count": 0,
      "outputs": []
    },
    {
      "cell_type": "code",
      "metadata": {
        "id": "sqlisAnDSpOp",
        "colab_type": "code",
        "colab": {
          "base_uri": "https://localhost:8080/",
          "height": 426
        },
        "outputId": "27294224-46b4-423f-969d-d153a8d7c573"
      },
      "source": [
        "data_new=train\n",
        "\n",
        "X,Y=preprocess(data_new)"
      ],
      "execution_count": 176,
      "outputs": [
        {
          "output_type": "stream",
          "text": [
            "is_holiday -->>>  object\n",
            "air_pollution_index -->>>  int64\n",
            "humidity -->>>  int64\n",
            "wind_speed -->>>  int64\n",
            "wind_direction -->>>  int64\n",
            "visibility_in_miles -->>>  int64\n",
            "dew_point -->>>  int64\n",
            "temperature -->>>  float64\n",
            "rain_p_h -->>>  float64\n",
            "snow_p_h -->>>  float64\n",
            "clouds_all -->>>  int64\n",
            "weather_type -->>>  object\n",
            "weather_description -->>>  object\n",
            "traffic_volume -->>>  int64\n",
            "   is_holiday  air_pollution_index  ...  weather_type  weather_description\n",
            "0         7.0                  121  ...           1.0                 24.0\n",
            "1         7.0                  178  ...           1.0                  2.0\n",
            "2         7.0                  113  ...           1.0                 19.0\n",
            "3         7.0                   20  ...           1.0                 19.0\n",
            "4         7.0                  281  ...           1.0                  2.0\n",
            "\n",
            "[5 rows x 13 columns]\n",
            "Attributes=: 13\n"
          ],
          "name": "stdout"
        },
        {
          "output_type": "stream",
          "text": [
            "/usr/local/lib/python3.6/dist-packages/ipykernel_launcher.py:20: FutureWarning: Method .as_matrix will be removed in a future version. Use .values instead.\n"
          ],
          "name": "stderr"
        }
      ]
    },
    {
      "cell_type": "code",
      "metadata": {
        "id": "b8nY554ZStns",
        "colab_type": "code",
        "colab": {
          "base_uri": "https://localhost:8080/",
          "height": 34
        },
        "outputId": "fc37ea84-f19c-4d17-f53f-0e22c2220ff1"
      },
      "source": [
        "X.shape, Y.shape"
      ],
      "execution_count": 177,
      "outputs": [
        {
          "output_type": "execute_result",
          "data": {
            "text/plain": [
              "((33750, 13), (33750,))"
            ]
          },
          "metadata": {
            "tags": []
          },
          "execution_count": 177
        }
      ]
    },
    {
      "cell_type": "code",
      "metadata": {
        "id": "kRWLTf6vhGve",
        "colab_type": "code",
        "colab": {
          "base_uri": "https://localhost:8080/",
          "height": 187
        },
        "outputId": "02e3dcca-4b1d-41ba-e098-87b93d8329b9"
      },
      "source": [
        "X[0:5,:]"
      ],
      "execution_count": 178,
      "outputs": [
        {
          "output_type": "execute_result",
          "data": {
            "text/plain": [
              "array([[  7.  , 121.  ,  89.  ,   2.  , 329.  ,   1.  ,   1.  , 288.28,\n",
              "          0.  ,   0.  ,  40.  ,   1.  ,  24.  ],\n",
              "       [  7.  , 178.  ,  67.  ,   3.  , 330.  ,   1.  ,   1.  , 289.36,\n",
              "          0.  ,   0.  ,  75.  ,   1.  ,   2.  ],\n",
              "       [  7.  , 113.  ,  66.  ,   3.  , 329.  ,   2.  ,   2.  , 289.58,\n",
              "          0.  ,   0.  ,  90.  ,   1.  ,  19.  ],\n",
              "       [  7.  ,  20.  ,  66.  ,   3.  , 329.  ,   5.  ,   5.  , 290.13,\n",
              "          0.  ,   0.  ,  90.  ,   1.  ,  19.  ],\n",
              "       [  7.  , 281.  ,  65.  ,   3.  , 329.  ,   7.  ,   7.  , 291.14,\n",
              "          0.  ,   0.  ,  75.  ,   1.  ,   2.  ]])"
            ]
          },
          "metadata": {
            "tags": []
          },
          "execution_count": 178
        }
      ]
    },
    {
      "cell_type": "code",
      "metadata": {
        "id": "8LnNzBfMhO04",
        "colab_type": "code",
        "colab": {
          "base_uri": "https://localhost:8080/",
          "height": 119
        },
        "outputId": "38f223c7-c8f6-4dfe-b197-270b5cddd4c7"
      },
      "source": [
        "Y[0:5]"
      ],
      "execution_count": 179,
      "outputs": [
        {
          "output_type": "execute_result",
          "data": {
            "text/plain": [
              "0    5545\n",
              "1    4516\n",
              "2    4767\n",
              "3    5026\n",
              "4    4918\n",
              "Name: traffic_volume, dtype: int64"
            ]
          },
          "metadata": {
            "tags": []
          },
          "execution_count": 179
        }
      ]
    },
    {
      "cell_type": "markdown",
      "metadata": {
        "id": "gopCveQdWvCQ",
        "colab_type": "text"
      },
      "source": [
        "# Using Classifiers"
      ]
    },
    {
      "cell_type": "code",
      "metadata": {
        "id": "VaXy_gH8T96w",
        "colab_type": "code",
        "colab": {}
      },
      "source": [
        "from sklearn.model_selection import train_test_split\n",
        "X_train, X_test, y_train, y_test = train_test_split(X, Y, test_size=0.1, random_state=42)"
      ],
      "execution_count": 0,
      "outputs": []
    },
    {
      "cell_type": "code",
      "metadata": {
        "id": "0LdLcg6sUVB1",
        "colab_type": "code",
        "colab": {
          "base_uri": "https://localhost:8080/",
          "height": 34
        },
        "outputId": "9cac8187-ef91-4407-c7f4-e097723e661d"
      },
      "source": [
        "print(X_train.shape,X_test.shape,y_train.shape,y_test.shape)"
      ],
      "execution_count": 181,
      "outputs": [
        {
          "output_type": "stream",
          "text": [
            "(30375, 13) (3375, 13) (30375,) (3375,)\n"
          ],
          "name": "stdout"
        }
      ]
    },
    {
      "cell_type": "code",
      "metadata": {
        "id": "7qBO0fY6Xjz8",
        "colab_type": "code",
        "colab": {}
      },
      "source": [
        "def find_correlation(X_train,y_train):\n",
        "  l=[]\n",
        "  for i in range(13):\n",
        "    l.append(np.corrcoef(X_train[:,i],y_train))\n",
        "  temp={}\n",
        "  for i in range(len(l)):\n",
        "    temp[i]=(l[i][0][1])  \n",
        "  plt.plot(temp.values())"
      ],
      "execution_count": 0,
      "outputs": []
    },
    {
      "cell_type": "code",
      "metadata": {
        "id": "Y6_JUwENXpUX",
        "colab_type": "code",
        "colab": {
          "base_uri": "https://localhost:8080/",
          "height": 268
        },
        "outputId": "3f310891-da04-4ca9-9026-1c8b3a1c5484"
      },
      "source": [
        "find_correlation(X,Y)"
      ],
      "execution_count": 183,
      "outputs": [
        {
          "output_type": "display_data",
          "data": {
            "image/png": "[encoded data removed]",
            "text/plain": [
              "<Figure size 432x288 with 1 Axes>"
            ]
          },
          "metadata": {
            "tags": []
          }
        }
      ]
    },
    {
      "cell_type": "markdown",
      "metadata": {
        "id": "lo9NmqvTZniz",
        "colab_type": "text"
      },
      "source": [
        "# Linear Regression"
      ]
    },
    {
      "cell_type": "code",
      "metadata": {
        "id": "q5U4grNBZmz-",
        "colab_type": "code",
        "colab": {
          "base_uri": "https://localhost:8080/",
          "height": 34
        },
        "outputId": "cb67d43a-dd4a-4fe9-f5d2-553d7f36b7b2"
      },
      "source": [
        "from sklearn.linear_model import LinearRegression\n",
        "from sklearn.metrics import accuracy_score\n",
        "linearRegressor = LinearRegression()\n",
        "linearRegressor.fit(X_train, y_train)"
      ],
      "execution_count": 184,
      "outputs": [
        {
          "output_type": "execute_result",
          "data": {
            "text/plain": [
              "LinearRegression(copy_X=True, fit_intercept=True, n_jobs=None, normalize=False)"
            ]
          },
          "metadata": {
            "tags": []
          },
          "execution_count": 184
        }
      ]
    },
    {
      "cell_type": "code",
      "metadata": {
        "id": "IdmLHi7XaHiR",
        "colab_type": "code",
        "colab": {
          "base_uri": "https://localhost:8080/",
          "height": 34
        },
        "outputId": "0d1c0b3b-8e3a-4d91-862d-7b1b92c871ec"
      },
      "source": [
        "pred=linearRegressor.predict(X_test)\n",
        "print(pred.shape,y_test.shape)"
      ],
      "execution_count": 185,
      "outputs": [
        {
          "output_type": "stream",
          "text": [
            "(3375,) (3375,)\n"
          ],
          "name": "stdout"
        }
      ]
    },
    {
      "cell_type": "code",
      "metadata": {
        "id": "ZKYJxGhUeuKw",
        "colab_type": "code",
        "colab": {
          "base_uri": "https://localhost:8080/",
          "height": 34
        },
        "outputId": "5671a3a2-3585-4195-9dc0-8344e3372167"
      },
      "source": [
        "min(y_test),max(y_test)"
      ],
      "execution_count": 186,
      "outputs": [
        {
          "output_type": "execute_result",
          "data": {
            "text/plain": [
              "(1, 7107)"
            ]
          },
          "metadata": {
            "tags": []
          },
          "execution_count": 186
        }
      ]
    },
    {
      "cell_type": "code",
      "metadata": {
        "id": "E5-E41OmaOgt",
        "colab_type": "code",
        "colab": {
          "base_uri": "https://localhost:8080/",
          "height": 34
        },
        "outputId": "76e24368-fcf7-44d7-fa13-24ab92e5a931"
      },
      "source": [
        "from sklearn.metrics import mean_squared_error\n",
        "mean_squared_error(y_test, pred)      "
      ],
      "execution_count": 187,
      "outputs": [
        {
          "output_type": "execute_result",
          "data": {
            "text/plain": [
              "3873946.1991878706"
            ]
          },
          "metadata": {
            "tags": []
          },
          "execution_count": 187
        }
      ]
    },
    {
      "cell_type": "code",
      "metadata": {
        "id": "pJ7EzglJdPuG",
        "colab_type": "code",
        "colab": {
          "base_uri": "https://localhost:8080/",
          "height": 409
        },
        "outputId": "8e4cc93d-9339-4b50-daa2-76143a37a776"
      },
      "source": [
        "XX_test=preprocess_test(test)"
      ],
      "execution_count": 189,
      "outputs": [
        {
          "output_type": "stream",
          "text": [
            "is_holiday -->>>  object\n",
            "air_pollution_index -->>>  int64\n",
            "humidity -->>>  int64\n",
            "wind_speed -->>>  int64\n",
            "wind_direction -->>>  int64\n",
            "visibility_in_miles -->>>  int64\n",
            "dew_point -->>>  int64\n",
            "temperature -->>>  float64\n",
            "rain_p_h -->>>  float64\n",
            "snow_p_h -->>>  int64\n",
            "clouds_all -->>>  int64\n",
            "weather_type -->>>  object\n",
            "weather_description -->>>  object\n",
            "   is_holiday  air_pollution_index  ...  weather_type  weather_description\n",
            "0         7.0                   73  ...           6.0                 15.0\n",
            "1         7.0                  251  ...           5.0                 14.0\n",
            "2         7.0                   75  ...           2.0                  9.0\n",
            "3         7.0                   98  ...           6.0                  7.0\n",
            "4         7.0                  283  ...           5.0                 14.0\n",
            "\n",
            "[5 rows x 13 columns]\n",
            "Attributes=: 13\n"
          ],
          "name": "stdout"
        },
        {
          "output_type": "stream",
          "text": [
            "/usr/local/lib/python3.6/dist-packages/ipykernel_launcher.py:44: FutureWarning: Method .as_matrix will be removed in a future version. Use .values instead.\n"
          ],
          "name": "stderr"
        }
      ]
    },
    {
      "cell_type": "code",
      "metadata": {
        "id": "O0uHpZHFiu25",
        "colab_type": "code",
        "colab": {}
      },
      "source": [
        "pred=linearRegressor.predict(XX_test)"
      ],
      "execution_count": 0,
      "outputs": []
    },
    {
      "cell_type": "code",
      "metadata": {
        "id": "fUzXc0L6jtRd",
        "colab_type": "code",
        "colab": {
          "base_uri": "https://localhost:8080/",
          "height": 285
        },
        "outputId": "743e6a96-0771-4d93-b065-c31994a2780a"
      },
      "source": [
        "plt.plot(y_test,'.')"
      ],
      "execution_count": 195,
      "outputs": [
        {
          "output_type": "execute_result",
          "data": {
            "text/plain": [
              "[<matplotlib.lines.Line2D at 0x7f486c31fcf8>]"
            ]
          },
          "metadata": {
            "tags": []
          },
          "execution_count": 195
        },
        {
          "output_type": "display_data",
          "data": {
            "image/png": "[encoded data removed]",
            "text/plain": [
              "<Figure size 432x288 with 1 Axes>"
            ]
          },
          "metadata": {
            "tags": []
          }
        }
      ]
    },
    {
      "cell_type": "code",
      "metadata": {
        "id": "l_In064zi1u7",
        "colab_type": "code",
        "colab": {
          "base_uri": "https://localhost:8080/",
          "height": 285
        },
        "outputId": "5660e92a-b0f6-43d6-df84-12a795ef348a"
      },
      "source": [
        "plt.plot(pred,'.')"
      ],
      "execution_count": 196,
      "outputs": [
        {
          "output_type": "execute_result",
          "data": {
            "text/plain": [
              "[<matplotlib.lines.Line2D at 0x7f486c307748>]"
            ]
          },
          "metadata": {
            "tags": []
          },
          "execution_count": 196
        },
        {
          "output_type": "display_data",
          "data": {
            "image/png": "[encoded data removed]",
            "text/plain": [
              "<Figure size 432x288 with 1 Axes>"
            ]
          },
          "metadata": {
            "tags": []
          }
        }
      ]
    },
    {
      "cell_type": "code",
      "metadata": {
        "id": "qwi1Z27Vj4QB",
        "colab_type": "code",
        "colab": {
          "base_uri": "https://localhost:8080/",
          "height": 449
        },
        "outputId": "d0b299fa-907b-4140-b6fa-b5dfcd1fc9fb"
      },
      "source": [
        "temp=test\n",
        "temp['traffic_volume']=pred\n",
        "res=temp[['date_time','traffic_volume']]\n",
        "tv=res['traffic_volume'].astype('int64')\n",
        "res['traffic_volume']=tv\n",
        "res.head(10)"
      ],
      "execution_count": 215,
      "outputs": [
        {
          "output_type": "stream",
          "text": [
            "/usr/local/lib/python3.6/dist-packages/ipykernel_launcher.py:5: SettingWithCopyWarning: \n",
            "A value is trying to be set on a copy of a slice from a DataFrame.\n",
            "Try using .loc[row_indexer,col_indexer] = value instead\n",
            "\n",
            "See the caveats in the documentation: http://pandas.pydata.org/pandas-docs/stable/indexing.html#indexing-view-versus-copy\n",
            "  \"\"\"\n"
          ],
          "name": "stderr"
        },
        {
          "output_type": "execute_result",
          "data": {
            "text/html": [
              "<div>\n",
              "<style scoped>\n",
              "    .dataframe tbody tr th:only-of-type {\n",
              "        vertical-align: middle;\n",
              "    }\n",
              "\n",
              "    .dataframe tbody tr th {\n",
              "        vertical-align: top;\n",
              "    }\n",
              "\n",
              "    .dataframe thead th {\n",
              "        text-align: right;\n",
              "    }\n",
              "</style>\n",
              "<table border=\"1\" class=\"dataframe\">\n",
              "  <thead>\n",
              "    <tr style=\"text-align: right;\">\n",
              "      <th></th>\n",
              "      <th>date_time</th>\n",
              "      <th>traffic_volume</th>\n",
              "    </tr>\n",
              "  </thead>\n",
              "  <tbody>\n",
              "    <tr>\n",
              "      <th>0</th>\n",
              "      <td>2017-05-18 00:00:00</td>\n",
              "      <td>3197</td>\n",
              "    </tr>\n",
              "    <tr>\n",
              "      <th>1</th>\n",
              "      <td>2017-05-18 00:00:00</td>\n",
              "      <td>3249</td>\n",
              "    </tr>\n",
              "    <tr>\n",
              "      <th>2</th>\n",
              "      <td>2017-05-18 00:00:00</td>\n",
              "      <td>3459</td>\n",
              "    </tr>\n",
              "    <tr>\n",
              "      <th>3</th>\n",
              "      <td>2017-05-18 01:00:00</td>\n",
              "      <td>3349</td>\n",
              "    </tr>\n",
              "    <tr>\n",
              "      <th>4</th>\n",
              "      <td>2017-05-18 01:00:00</td>\n",
              "      <td>3349</td>\n",
              "    </tr>\n",
              "    <tr>\n",
              "      <th>5</th>\n",
              "      <td>2017-05-18 02:00:00</td>\n",
              "      <td>3204</td>\n",
              "    </tr>\n",
              "    <tr>\n",
              "      <th>6</th>\n",
              "      <td>2017-05-18 02:00:00</td>\n",
              "      <td>3228</td>\n",
              "    </tr>\n",
              "    <tr>\n",
              "      <th>7</th>\n",
              "      <td>2017-05-18 02:00:00</td>\n",
              "      <td>3480</td>\n",
              "    </tr>\n",
              "    <tr>\n",
              "      <th>8</th>\n",
              "      <td>2017-05-18 03:00:00</td>\n",
              "      <td>3231</td>\n",
              "    </tr>\n",
              "    <tr>\n",
              "      <th>9</th>\n",
              "      <td>2017-05-18 03:00:00</td>\n",
              "      <td>3253</td>\n",
              "    </tr>\n",
              "  </tbody>\n",
              "</table>\n",
              "</div>"
            ],
            "text/plain": [
              "             date_time  traffic_volume\n",
              "0  2017-05-18 00:00:00            3197\n",
              "1  2017-05-18 00:00:00            3249\n",
              "2  2017-05-18 00:00:00            3459\n",
              "3  2017-05-18 01:00:00            3349\n",
              "4  2017-05-18 01:00:00            3349\n",
              "5  2017-05-18 02:00:00            3204\n",
              "6  2017-05-18 02:00:00            3228\n",
              "7  2017-05-18 02:00:00            3480\n",
              "8  2017-05-18 03:00:00            3231\n",
              "9  2017-05-18 03:00:00            3253"
            ]
          },
          "metadata": {
            "tags": []
          },
          "execution_count": 215
        }
      ]
    },
    {
      "cell_type": "code",
      "metadata": {
        "id": "OMK7zROapc7F",
        "colab_type": "code",
        "colab": {
          "base_uri": "https://localhost:8080/",
          "height": 34
        },
        "outputId": "b427abce-ce24-4235-d849-65dd901be349"
      },
      "source": [
        "train['date_time'][11]"
      ],
      "execution_count": 225,
      "outputs": [
        {
          "output_type": "execute_result",
          "data": {
            "text/plain": [
              "'2012-10-02 20:00:00'"
            ]
          },
          "metadata": {
            "tags": []
          },
          "execution_count": 225
        }
      ]
    },
    {
      "cell_type": "code",
      "metadata": {
        "id": "E0GIKJDwkNy_",
        "colab_type": "code",
        "colab": {
          "base_uri": "https://localhost:8080/",
          "height": 221
        },
        "outputId": "20899989-b976-4aa0-f57b-395dd99a17f8"
      },
      "source": [
        "#Change the column format for the datetime column to yyyy-mm-dd hh:mm:ss in excel and reupload.\n",
        "res['date_time'] = pd.to_datetime(res['date_time'])\n",
        "print(res.head())\n",
        "res.to_csv(r'result.csv')"
      ],
      "execution_count": 229,
      "outputs": [
        {
          "output_type": "stream",
          "text": [
            "            date_time  traffic_volume\n",
            "0 2017-05-18 00:00:00            3197\n",
            "1 2017-05-18 00:00:00            3249\n",
            "2 2017-05-18 00:00:00            3459\n",
            "3 2017-05-18 01:00:00            3349\n",
            "4 2017-05-18 01:00:00            3349\n"
          ],
          "name": "stdout"
        },
        {
          "output_type": "stream",
          "text": [
            "/usr/local/lib/python3.6/dist-packages/ipykernel_launcher.py:1: SettingWithCopyWarning: \n",
            "A value is trying to be set on a copy of a slice from a DataFrame.\n",
            "Try using .loc[row_indexer,col_indexer] = value instead\n",
            "\n",
            "See the caveats in the documentation: http://pandas.pydata.org/pandas-docs/stable/indexing.html#indexing-view-versus-copy\n",
            "  \"\"\"Entry point for launching an IPython kernel.\n"
          ],
          "name": "stderr"
        }
      ]
    },
    {
      "cell_type": "markdown",
      "metadata": {
        "id": "HxqbaX3AYCuR",
        "colab_type": "text"
      },
      "source": [
        "#ANN"
      ]
    },
    {
      "cell_type": "code",
      "metadata": {
        "id": "25jCUMeqXuFx",
        "colab_type": "code",
        "colab": {
          "base_uri": "https://localhost:8080/",
          "height": 238
        },
        "outputId": "4c71d9aa-ca01-45b2-8729-2544d8845d2b"
      },
      "source": [
        "from keras.models import Sequential\n",
        "from keras.layers import Dense\n",
        "# Using Relu activation, and Adam optimizer, 50 epochs\n",
        "model = Sequential()\n",
        "model.add(Dense(6, input_dim=13, activation='relu'))\n",
        "model.add(Dense(3,activation='relu'))\n",
        "#model.add(Dense(8, activation='relu'))\n",
        "#model.add(Dense(4, activation='relu'))\n",
        "model.add(Dense(1, activation='relu'))\n",
        "model.compile(loss='mse', optimizer='adam', metrics=['accuracy'])\n",
        "model.summary()"
      ],
      "execution_count": 100,
      "outputs": [
        {
          "output_type": "stream",
          "text": [
            "_________________________________________________________________\n",
            "Layer (type)                 Output Shape              Param #   \n",
            "=================================================================\n",
            "dense_21 (Dense)             (None, 6)                 84        \n",
            "_________________________________________________________________\n",
            "dense_22 (Dense)             (None, 3)                 21        \n",
            "_________________________________________________________________\n",
            "dense_23 (Dense)             (None, 1)                 4         \n",
            "=================================================================\n",
            "Total params: 109\n",
            "Trainable params: 109\n",
            "Non-trainable params: 0\n",
            "_________________________________________________________________\n"
          ],
          "name": "stdout"
        }
      ]
    },
    {
      "cell_type": "code",
      "metadata": {
        "id": "oXJzjT8RYGhM",
        "colab_type": "code",
        "colab": {
          "base_uri": "https://localhost:8080/",
          "height": 426
        },
        "outputId": "947cc6f4-e38e-4de5-f7b3-4f1ea74e81a1"
      },
      "source": [
        "# Train model\n",
        "history = model.fit(X_train, y_train, nb_epoch=10, batch_size=20,  verbose=1)\n",
        "# Print Accuracy\n",
        "scores = model.evaluate(X_test, y_test) \n",
        "print(\"%s: %.2f%%\" % (model.metrics_names[1], scores[1]*100))"
      ],
      "execution_count": 101,
      "outputs": [
        {
          "output_type": "stream",
          "text": [
            "/usr/local/lib/python3.6/dist-packages/ipykernel_launcher.py:1: UserWarning: The `nb_epoch` argument in `fit` has been renamed `epochs`.\n",
            "  \"\"\"Entry point for launching an IPython kernel.\n"
          ],
          "name": "stderr"
        },
        {
          "output_type": "stream",
          "text": [
            "Epoch 1/10\n",
            "27000/27000 [==============================] - 2s 78us/step - loss: 14442387.0667 - acc: 7.4074e-05\n",
            "Epoch 2/10\n",
            "27000/27000 [==============================] - 1s 54us/step - loss: 14442387.0726 - acc: 7.4074e-05\n",
            "Epoch 3/10\n",
            "27000/27000 [==============================] - 1s 54us/step - loss: 14442387.1111 - acc: 7.4074e-05\n",
            "Epoch 4/10\n",
            "27000/27000 [==============================] - 1s 55us/step - loss: 14442387.0993 - acc: 7.4074e-05\n",
            "Epoch 5/10\n",
            "27000/27000 [==============================] - 1s 54us/step - loss: 14442387.0985 - acc: 7.4074e-05\n",
            "Epoch 6/10\n",
            "27000/27000 [==============================] - 1s 54us/step - loss: 14442387.1059 - acc: 7.4074e-05\n",
            "Epoch 7/10\n",
            "27000/27000 [==============================] - 1s 54us/step - loss: 14442387.0996 - acc: 7.4074e-05\n",
            "Epoch 8/10\n",
            "27000/27000 [==============================] - 1s 54us/step - loss: 14442387.0900 - acc: 7.4074e-05\n",
            "Epoch 9/10\n",
            "27000/27000 [==============================] - 1s 54us/step - loss: 14442387.0926 - acc: 7.4074e-05\n",
            "Epoch 10/10\n",
            "27000/27000 [==============================] - 1s 54us/step - loss: 14442387.0989 - acc: 7.4074e-05\n",
            "6750/6750 [==============================] - 0s 35us/step\n",
            "acc: 0.00%\n"
          ],
          "name": "stdout"
        }
      ]
    },
    {
      "cell_type": "code",
      "metadata": {
        "id": "hcVpWtqVYSGm",
        "colab_type": "code",
        "colab": {}
      },
      "source": [
        ""
      ],
      "execution_count": 0,
      "outputs": []
    }
  ]
}