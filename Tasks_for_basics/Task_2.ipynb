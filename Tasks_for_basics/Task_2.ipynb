{
 "cells": [
  {
   "cell_type": "markdown",
   "metadata": {},
   "source": [
    "# Evaluation Criteria \n",
    "\n",
    "\n",
    "## 1. Execution time of code= O(months X n ) , months=12,  n= number of counts of dates  with respect to a category\n",
    "\n",
    "## 2. Code scalability- It will work for every dataset\n",
    "\n",
    "## 3. Optimized code in terms of time & space complexity- Rather than traversing each record, we can just use counter to minimize iterations, so here only counts are important which decreases the code's time complexity\n",
    "\n",
    "## 4. Correct choice of data structures- used pandas dataframe and numpy arrays\n",
    "\n",
    "## 5. Visualizations- Graphs are provided for better understanding\n",
    "\n",
    "## 6. Quality of output- Output is the graphs and Fractions alloted to each category for each month which are saved as screenshots. \n",
    "\n",
    "## 7. unit tests"
   ]
  },
  {
   "cell_type": "markdown",
   "metadata": {
    "colab_type": "text",
    "id": "Cr6YjyM5dwAM"
   },
   "source": [
    "# Task 2: \n",
    "\n",
    "## The following dataset contains transactions data: https://goo.gl/kTnPMn\n",
    "\n",
    "## For every transaction, the following fields have been provided:\n",
    "\n",
    "### product_id\n",
    "\n",
    "### category\n",
    "\n",
    "### date\n",
    "\n",
    "## For each category in the dataset, find out if there is a seasonal pattern in purchase behaviour. Correspondingly, generate seasonal scores (Range: [0, 1]) for each category across seasons* to indicate seasonal relevance of the category at a given time period.\n",
    "\n",
    "* Seasons can be constructed as months"
   ]
  },
  {
   "cell_type": "markdown",
   "metadata": {
    "colab_type": "text",
    "id": "jGW7CzE-hc-4"
   },
   "source": [
    "# Target is to generate scores in range [0,1] for each of 4  category per month. "
   ]
  },
  {
   "cell_type": "markdown",
   "metadata": {
    "colab_type": "text",
    "id": "XRF5wF_32Pus"
   },
   "source": [
    "# Mounting Google Drive"
   ]
  },
  {
   "cell_type": "code",
   "execution_count": 1,
   "metadata": {
    "colab": {
     "base_uri": "https://localhost:8080/",
     "height": 122
    },
    "colab_type": "code",
    "id": "XvP15XW-lSfs",
    "outputId": "c514ad37-236e-460a-c856-8fee2982734a"
   },
   "outputs": [
    {
     "name": "stdout",
     "output_type": "stream",
     "text": [
      "Go to this URL in a browser: https://accounts.google.com/o/oauth2/auth?client_id=947318989803-6bn6qk8qdgf4n4g3pfee6491hc0brc4i.apps.googleusercontent.com&redirect_uri=urn%3Aietf%3Awg%3Aoauth%3A2.0%3Aoob&scope=email%20https%3A%2F%2Fwww.googleapis.com%2Fauth%2Fdocs.test%20https%3A%2F%2Fwww.googleapis.com%2Fauth%2Fdrive%20https%3A%2F%2Fwww.googleapis.com%2Fauth%2Fdrive.photos.readonly%20https%3A%2F%2Fwww.googleapis.com%2Fauth%2Fpeopleapi.readonly&response_type=code\n",
      "\n",
      "Enter your authorization code:\n",
      "··········\n",
      "Mounted at /content/gdrive\n"
     ]
    }
   ],
   "source": [
    "from google.colab import drive\n",
    "drive.mount('/content/gdrive')"
   ]
  },
  {
   "cell_type": "markdown",
   "metadata": {
    "colab_type": "text",
    "id": "plIG6Ilb2UHe"
   },
   "source": [
    "# Visualize Dataset"
   ]
  },
  {
   "cell_type": "code",
   "execution_count": 0,
   "metadata": {
    "colab": {},
    "colab_type": "code",
    "id": "twxnuIZZdMZ3"
   },
   "outputs": [],
   "source": [
    "import pandas as pd\n",
    "import matplotlib.pyplot as plt\n",
    "import numpy as np\n",
    "data=pd.read_csv('/content/gdrive/My Drive/MAD/transactions.csv')"
   ]
  },
  {
   "cell_type": "code",
   "execution_count": 3,
   "metadata": {
    "colab": {
     "base_uri": "https://localhost:8080/",
     "height": 197
    },
    "colab_type": "code",
    "id": "sy44KWjJdiBT",
    "outputId": "3b88ad41-d740-499b-c7b6-6adb1cd10ddf"
   },
   "outputs": [
    {
     "data": {
      "text/html": [
       "<div>\n",
       "<style scoped>\n",
       "    .dataframe tbody tr th:only-of-type {\n",
       "        vertical-align: middle;\n",
       "    }\n",
       "\n",
       "    .dataframe tbody tr th {\n",
       "        vertical-align: top;\n",
       "    }\n",
       "\n",
       "    .dataframe thead th {\n",
       "        text-align: right;\n",
       "    }\n",
       "</style>\n",
       "<table border=\"1\" class=\"dataframe\">\n",
       "  <thead>\n",
       "    <tr style=\"text-align: right;\">\n",
       "      <th></th>\n",
       "      <th>transaction_id</th>\n",
       "      <th>product_id</th>\n",
       "      <th>category</th>\n",
       "      <th>date</th>\n",
       "    </tr>\n",
       "  </thead>\n",
       "  <tbody>\n",
       "    <tr>\n",
       "      <th>0</th>\n",
       "      <td>1</td>\n",
       "      <td>662685</td>\n",
       "      <td>Casual Dress</td>\n",
       "      <td>01/10/2017</td>\n",
       "    </tr>\n",
       "    <tr>\n",
       "      <th>1</th>\n",
       "      <td>2</td>\n",
       "      <td>154881</td>\n",
       "      <td>Casual Dress</td>\n",
       "      <td>01/10/2017</td>\n",
       "    </tr>\n",
       "    <tr>\n",
       "      <th>2</th>\n",
       "      <td>3</td>\n",
       "      <td>220036</td>\n",
       "      <td>Casual Dress</td>\n",
       "      <td>01/10/2017</td>\n",
       "    </tr>\n",
       "    <tr>\n",
       "      <th>3</th>\n",
       "      <td>4</td>\n",
       "      <td>220036</td>\n",
       "      <td>Casual Dress</td>\n",
       "      <td>01/10/2017</td>\n",
       "    </tr>\n",
       "    <tr>\n",
       "      <th>4</th>\n",
       "      <td>5</td>\n",
       "      <td>950839</td>\n",
       "      <td>Pullover Sweater</td>\n",
       "      <td>01/10/2017</td>\n",
       "    </tr>\n",
       "  </tbody>\n",
       "</table>\n",
       "</div>"
      ],
      "text/plain": [
       "   transaction_id  product_id          category        date\n",
       "0               1      662685      Casual Dress  01/10/2017\n",
       "1               2      154881      Casual Dress  01/10/2017\n",
       "2               3      220036      Casual Dress  01/10/2017\n",
       "3               4      220036      Casual Dress  01/10/2017\n",
       "4               5      950839  Pullover Sweater  01/10/2017"
      ]
     },
     "execution_count": 3,
     "metadata": {
      "tags": []
     },
     "output_type": "execute_result"
    }
   ],
   "source": [
    "data.head()"
   ]
  },
  {
   "cell_type": "code",
   "execution_count": 4,
   "metadata": {
    "colab": {
     "base_uri": "https://localhost:8080/",
     "height": 34
    },
    "colab_type": "code",
    "id": "Ib_mJpJXdklm",
    "outputId": "cd2de576-6c0d-438c-e36e-22ccfad79abc"
   },
   "outputs": [
    {
     "data": {
      "text/plain": [
       "1048575"
      ]
     },
     "execution_count": 4,
     "metadata": {
      "tags": []
     },
     "output_type": "execute_result"
    }
   ],
   "source": [
    "len(data) # 10 lac rows"
   ]
  },
  {
   "cell_type": "code",
   "execution_count": 0,
   "metadata": {
    "colab": {},
    "colab_type": "code",
    "id": "_pkmIB8feKp4"
   },
   "outputs": [],
   "source": [
    "categories= data['category']"
   ]
  },
  {
   "cell_type": "code",
   "execution_count": 6,
   "metadata": {
    "colab": {
     "base_uri": "https://localhost:8080/",
     "height": 119
    },
    "colab_type": "code",
    "id": "mL1N4LUWeMIv",
    "outputId": "c7706485-0fba-4a78-bcd5-e3b106d573ec"
   },
   "outputs": [
    {
     "data": {
      "text/plain": [
       "0        Casual Dress\n",
       "1        Casual Dress\n",
       "2        Casual Dress\n",
       "3        Casual Dress\n",
       "4    Pullover Sweater\n",
       "Name: category, dtype: object"
      ]
     },
     "execution_count": 6,
     "metadata": {
      "tags": []
     },
     "output_type": "execute_result"
    }
   ],
   "source": [
    "categories[0:5]"
   ]
  },
  {
   "cell_type": "markdown",
   "metadata": {
    "colab_type": "text",
    "id": "fU9JQ8ahC0ym"
   },
   "source": [
    "# Finding categories and their counts from dataset"
   ]
  },
  {
   "cell_type": "code",
   "execution_count": 0,
   "metadata": {
    "colab": {},
    "colab_type": "code",
    "id": "5vNrL9WPe9b7"
   },
   "outputs": [],
   "source": [
    "from collections import Counter \n",
    "cat_count=Counter(categories)"
   ]
  },
  {
   "cell_type": "code",
   "execution_count": 8,
   "metadata": {
    "colab": {
     "base_uri": "https://localhost:8080/",
     "height": 34
    },
    "colab_type": "code",
    "id": "fu5rwcpKfJ3u",
    "outputId": "20181000-0914-43cc-c0f3-b1f6ca38df0a"
   },
   "outputs": [
    {
     "data": {
      "text/plain": [
       "dict_keys(['Casual Dress', 'Pullover Sweater', 'Sleeveless Blouse', 'Fleece Jacket'])"
      ]
     },
     "execution_count": 8,
     "metadata": {
      "tags": []
     },
     "output_type": "execute_result"
    }
   ],
   "source": [
    "cat_count.keys()"
   ]
  },
  {
   "cell_type": "code",
   "execution_count": 0,
   "metadata": {
    "colab": {},
    "colab_type": "code",
    "id": "SyK9aGDrmyYq"
   },
   "outputs": [],
   "source": [
    "all_category=cat_count.keys()"
   ]
  },
  {
   "cell_type": "markdown",
   "metadata": {
    "colab_type": "text",
    "id": "tagRIj66DG5C"
   },
   "source": [
    "# Plotting Categories vs Counts\n",
    "## Fleece jacket has least count"
   ]
  },
  {
   "cell_type": "code",
   "execution_count": 10,
   "metadata": {
    "colab": {
     "base_uri": "https://localhost:8080/",
     "height": 302
    },
    "colab_type": "code",
    "id": "BVJRfykLlwNV",
    "outputId": "2cf66c18-d1b4-4172-d32c-478653fb7fa3"
   },
   "outputs": [
    {
     "data": {
      "text/plain": [
       "<Figure size 720x360 with 0 Axes>"
      ]
     },
     "execution_count": 10,
     "metadata": {
      "tags": []
     },
     "output_type": "execute_result"
    },
    {
     "data": {
      "image/png": "[encoded data removed]",
      "text/plain": [
       "<Figure size 432x288 with 1 Axes>"
      ]
     },
     "metadata": {
      "tags": []
     },
     "output_type": "display_data"
    },
    {
     "data": {
      "text/plain": [
       "<Figure size 720x360 with 0 Axes>"
      ]
     },
     "metadata": {
      "tags": []
     },
     "output_type": "display_data"
    }
   ],
   "source": [
    "plt.bar(cat_count.keys(),cat_count.values())\n",
    "plt.figure(figsize=(10,5))\n",
    "#plt.xlabel(cat_count.keys())"
   ]
  },
  {
   "cell_type": "code",
   "execution_count": 0,
   "metadata": {
    "colab": {},
    "colab_type": "code",
    "id": "uHTzw7b9iELM"
   },
   "outputs": [],
   "source": [
    "from tqdm import tqdm"
   ]
  },
  {
   "cell_type": "markdown",
   "metadata": {
    "colab_type": "text",
    "id": "udSS8qx-DZoK"
   },
   "source": [
    "# Finding out counts of different months"
   ]
  },
  {
   "cell_type": "code",
   "execution_count": 12,
   "metadata": {
    "colab": {
     "base_uri": "https://localhost:8080/",
     "height": 34
    },
    "colab_type": "code",
    "id": "IToPIyqofrCR",
    "outputId": "8bc82d9e-66da-4c06-fa0b-1f0c4c488851"
   },
   "outputs": [
    {
     "name": "stderr",
     "output_type": "stream",
     "text": [
      "100%|██████████| 1048575/1048575 [03:22<00:00, 5185.74it/s]\n"
     ]
    }
   ],
   "source": [
    "dates=[]\n",
    "for i in tqdm(range(len(data))):\n",
    "  dates.append(data.iloc[i]['date'][3:5])"
   ]
  },
  {
   "cell_type": "code",
   "execution_count": 0,
   "metadata": {
    "colab": {},
    "colab_type": "code",
    "id": "JmjWrnSOh4MV"
   },
   "outputs": [],
   "source": [
    "date_count=Counter(dates)"
   ]
  },
  {
   "cell_type": "code",
   "execution_count": 16,
   "metadata": {
    "colab": {
     "base_uri": "https://localhost:8080/",
     "height": 204
    },
    "colab_type": "code",
    "id": "zq523GWJh8Sc",
    "outputId": "09d0b30c-3d10-4ea3-f297-0d679cf95d55"
   },
   "outputs": [
    {
     "data": {
      "text/plain": [
       "Counter({'01': 104302,\n",
       "         '02': 138497,\n",
       "         '03': 121324,\n",
       "         '04': 88097,\n",
       "         '05': 114558,\n",
       "         '06': 89623,\n",
       "         '07': 92848,\n",
       "         '08': 15104,\n",
       "         '10': 100841,\n",
       "         '11': 95251,\n",
       "         '12': 88130})"
      ]
     },
     "execution_count": 16,
     "metadata": {
      "tags": []
     },
     "output_type": "execute_result"
    }
   ],
   "source": [
    "date_count"
   ]
  },
  {
   "cell_type": "markdown",
   "metadata": {
    "colab_type": "text",
    "id": "GLNriTrJDh2U"
   },
   "source": [
    "# Plotting counts of all 12 months"
   ]
  },
  {
   "cell_type": "code",
   "execution_count": 17,
   "metadata": {
    "colab": {
     "base_uri": "https://localhost:8080/",
     "height": 302
    },
    "colab_type": "code",
    "id": "A-h6ybhDh9Yp",
    "outputId": "97c45daa-2980-4df9-d83b-40caf9ba25e4"
   },
   "outputs": [
    {
     "data": {
      "text/plain": [
       "<Figure size 720x360 with 0 Axes>"
      ]
     },
     "execution_count": 17,
     "metadata": {
      "tags": []
     },
     "output_type": "execute_result"
    },
    {
     "data": {
      "image/png": "[encoded data removed]",
      "text/plain": [
       "<Figure size 432x288 with 1 Axes>"
      ]
     },
     "metadata": {
      "tags": []
     },
     "output_type": "display_data"
    },
    {
     "data": {
      "text/plain": [
       "<Figure size 720x360 with 0 Axes>"
      ]
     },
     "metadata": {
      "tags": []
     },
     "output_type": "display_data"
    }
   ],
   "source": [
    "plt.bar(date_count.keys(),date_count.values())\n",
    "plt.figure(figsize=(10,5))"
   ]
  },
  {
   "cell_type": "markdown",
   "metadata": {
    "colab_type": "text",
    "id": "ja2VYRyJDnT5"
   },
   "source": [
    "# Grouping dataframe by category"
   ]
  },
  {
   "cell_type": "code",
   "execution_count": 18,
   "metadata": {
    "colab": {
     "base_uri": "https://localhost:8080/",
     "height": 197
    },
    "colab_type": "code",
    "id": "J5b8_LCouebz",
    "outputId": "45a86825-c5ae-45dc-82e9-46a48627c0de"
   },
   "outputs": [
    {
     "data": {
      "text/html": [
       "<div>\n",
       "<style scoped>\n",
       "    .dataframe tbody tr th:only-of-type {\n",
       "        vertical-align: middle;\n",
       "    }\n",
       "\n",
       "    .dataframe tbody tr th {\n",
       "        vertical-align: top;\n",
       "    }\n",
       "\n",
       "    .dataframe thead th {\n",
       "        text-align: right;\n",
       "    }\n",
       "</style>\n",
       "<table border=\"1\" class=\"dataframe\">\n",
       "  <thead>\n",
       "    <tr style=\"text-align: right;\">\n",
       "      <th></th>\n",
       "      <th>transaction_id</th>\n",
       "      <th>product_id</th>\n",
       "      <th>date</th>\n",
       "    </tr>\n",
       "    <tr>\n",
       "      <th>category</th>\n",
       "      <th></th>\n",
       "      <th></th>\n",
       "      <th></th>\n",
       "    </tr>\n",
       "  </thead>\n",
       "  <tbody>\n",
       "    <tr>\n",
       "      <th>Casual Dress</th>\n",
       "      <td>1</td>\n",
       "      <td>662685</td>\n",
       "      <td>01/10/2017</td>\n",
       "    </tr>\n",
       "    <tr>\n",
       "      <th>Fleece Jacket</th>\n",
       "      <td>13</td>\n",
       "      <td>188834</td>\n",
       "      <td>01/10/2017</td>\n",
       "    </tr>\n",
       "    <tr>\n",
       "      <th>Pullover Sweater</th>\n",
       "      <td>5</td>\n",
       "      <td>950839</td>\n",
       "      <td>01/10/2017</td>\n",
       "    </tr>\n",
       "    <tr>\n",
       "      <th>Sleeveless Blouse</th>\n",
       "      <td>10</td>\n",
       "      <td>935727</td>\n",
       "      <td>01/10/2017</td>\n",
       "    </tr>\n",
       "  </tbody>\n",
       "</table>\n",
       "</div>"
      ],
      "text/plain": [
       "                   transaction_id  product_id        date\n",
       "category                                                 \n",
       "Casual Dress                    1      662685  01/10/2017\n",
       "Fleece Jacket                  13      188834  01/10/2017\n",
       "Pullover Sweater                5      950839  01/10/2017\n",
       "Sleeveless Blouse              10      935727  01/10/2017"
      ]
     },
     "execution_count": 18,
     "metadata": {
      "tags": []
     },
     "output_type": "execute_result"
    }
   ],
   "source": [
    "gp = data.groupby('category')\n",
    "gp.first()"
   ]
  },
  {
   "cell_type": "markdown",
   "metadata": {
    "colab_type": "text",
    "id": "L7o5nLQPD-6p"
   },
   "source": [
    "# Getting data by each group"
   ]
  },
  {
   "cell_type": "code",
   "execution_count": 0,
   "metadata": {
    "colab": {},
    "colab_type": "code",
    "id": "Ibz3YMWrlmpL"
   },
   "outputs": [],
   "source": [
    "cd= gp.get_group('Casual Dress') \n",
    "fj= gp.get_group('Fleece Jacket') \n",
    "ps= gp.get_group('Pullover Sweater') \n",
    "sb= gp.get_group('Sleeveless Blouse') "
   ]
  },
  {
   "cell_type": "markdown",
   "metadata": {
    "colab_type": "text",
    "id": "4do1_-eoED4-"
   },
   "source": [
    "# Their respective row counts"
   ]
  },
  {
   "cell_type": "code",
   "execution_count": 20,
   "metadata": {
    "colab": {
     "base_uri": "https://localhost:8080/",
     "height": 34
    },
    "colab_type": "code",
    "id": "0v8z3d-NxWy9",
    "outputId": "27dd1174-4abb-47b5-e944-a6900792eb7b"
   },
   "outputs": [
    {
     "data": {
      "text/plain": [
       "(681032, 4974, 207355, 155214)"
      ]
     },
     "execution_count": 20,
     "metadata": {
      "tags": []
     },
     "output_type": "execute_result"
    }
   ],
   "source": [
    "len(cd), len(fj), len(ps), len(sb)"
   ]
  },
  {
   "cell_type": "markdown",
   "metadata": {
    "colab_type": "text",
    "id": "oFJ1848PESjI"
   },
   "source": [
    "# Defining function which returns a list of 12 values containing counts of given category for 12 months"
   ]
  },
  {
   "cell_type": "code",
   "execution_count": 0,
   "metadata": {
    "colab": {},
    "colab_type": "code",
    "id": "Lf43UENkoMbC"
   },
   "outputs": [],
   "source": [
    "def func(data,category):\n",
    "  \n",
    "  cat_gp = data.groupby('category') # Grouping by a particular cateogry\n",
    "  if category=='Casual Dress':\n",
    "    given_cat= cat_gp.get_group('Casual Dress') # Get the dataframe having Casual dress only\n",
    "  elif category=='Fleece Jacket':\n",
    "    given_cat= cat_gp.get_group('Fleece Jacket')\n",
    "  elif category=='Pullover Sweater':\n",
    "    given_cat= cat_gp.get_group('Pullover Sweater')\n",
    "  else:\n",
    "    given_cat= cat_gp.get_group('Sleeveless Blouse')    \n",
    "    \n",
    "  cnt_cat=Counter(given_cat['date']) # create a counter for date with respect to given category \n",
    "  \n",
    "  temp_df = pd.DataFrame.from_dict(cnt_cat,orient='index') # converting counter to temporary dataframe\n",
    "  \n",
    "  mnths=['01','02','03','04','05','06','07','08','09','10','11','12'] # list containing months\n",
    "  lst=[]\n",
    "  \n",
    "  for i in mnths:   # looping over months\n",
    "    cnt=0\n",
    "    \n",
    "    for j in range(len(temp_df)):  # looping over counter of dates for given category for calculating counts per month    \n",
    "    \n",
    "      if temp_df.index[j][3:5]==i:   # date[3:5] contains month value\n",
    "        cnt+=temp_df.iloc[j][0]\n",
    "        \n",
    "    lst.append(cnt)\n",
    "    \n",
    "  return lst # returns list of counts over 12 months of each category"
   ]
  },
  {
   "cell_type": "markdown",
   "metadata": {
    "colab_type": "text",
    "id": "zDNgMxg6FwIm"
   },
   "source": [
    "# Counts over months for each Category"
   ]
  },
  {
   "cell_type": "code",
   "execution_count": 0,
   "metadata": {
    "colab": {},
    "colab_type": "code",
    "id": "KUZxTeFF9C9V"
   },
   "outputs": [],
   "source": [
    "\n",
    "\n",
    "cd=func(data,'Casual Dress')\n",
    "fj=func(data,'Fleece Jacket')\n",
    "ps=func(data,'Pullover Sweater')\n",
    "sb=func(data,'Sleeveless Blouse')\n"
   ]
  },
  {
   "cell_type": "code",
   "execution_count": 23,
   "metadata": {
    "colab": {
     "base_uri": "https://localhost:8080/",
     "height": 34
    },
    "colab_type": "code",
    "id": "FpeMB1QLC6oS",
    "outputId": "2cb4c4e2-aca0-482c-a1ac-4173d00a7814"
   },
   "outputs": [
    {
     "data": {
      "text/plain": [
       "1048575"
      ]
     },
     "execution_count": 23,
     "metadata": {
      "tags": []
     },
     "output_type": "execute_result"
    }
   ],
   "source": [
    "sum(cd)+sum(fj)+sum(ps)+sum(sb)"
   ]
  },
  {
   "cell_type": "markdown",
   "metadata": {
    "colab_type": "text",
    "id": "U76OKIqdF1i9"
   },
   "source": [
    "# Plotting the counts of 4 categories over 12 months"
   ]
  },
  {
   "cell_type": "code",
   "execution_count": 24,
   "metadata": {
    "colab": {
     "base_uri": "https://localhost:8080/",
     "height": 312
    },
    "colab_type": "code",
    "id": "jUTT4LFuC7dU",
    "outputId": "42bc2d57-e690-45e0-e2de-8ff9f83d82f9"
   },
   "outputs": [
    {
     "data": {
      "text/plain": [
       "<matplotlib.legend.Legend at 0x7f696a093940>"
      ]
     },
     "execution_count": 24,
     "metadata": {
      "tags": []
     },
     "output_type": "execute_result"
    },
    {
     "data": {
      "image/png": "[encoded data removed]",
      "text/plain": [
       "<Figure size 432x288 with 1 Axes>"
      ]
     },
     "metadata": {
      "tags": []
     },
     "output_type": "display_data"
    }
   ],
   "source": [
    "plt.plot(cd,label='Casual Dress')\n",
    "plt.plot(fj,label='Pullover Sweater')\n",
    "plt.plot(ps,label='Sleeveless Blouse')\n",
    "plt.plot(sb,label='Fleece Jacket')\n",
    "plt.title('Category usage with respect to months')\n",
    "plt.xlabel('Months')\n",
    "plt.ylabel('Category usage count')\n",
    "plt.legend()\n"
   ]
  },
  {
   "cell_type": "markdown",
   "metadata": {
    "colab_type": "text",
    "id": "wiRnaPAaGBjK"
   },
   "source": [
    "# Alloting fraction for  each month to each category using counts"
   ]
  },
  {
   "cell_type": "code",
   "execution_count": 0,
   "metadata": {
    "colab": {},
    "colab_type": "code",
    "id": "PJs0krozGTZa"
   },
   "outputs": [],
   "source": [
    "# Converting li\n",
    "cd=np.asarray(cd)\n",
    "fj=np.asarray(fj)\n",
    "ps=np.asarray(ps)\n",
    "sb=np.asarray(sb)\n",
    "comm=np.ones([4,12])\n",
    "comm[0]=cd\n",
    "comm[1]=fj\n",
    "comm[2]=ps\n",
    "comm[3]=sb"
   ]
  },
  {
   "cell_type": "code",
   "execution_count": 26,
   "metadata": {
    "colab": {
     "base_uri": "https://localhost:8080/",
     "height": 153
    },
    "colab_type": "code",
    "id": "WHbOFyH4HmYU",
    "outputId": "d5660873-3451-4984-96a6-25c23eb9c035"
   },
   "outputs": [
    {
     "data": {
      "text/plain": [
       "array([[66649., 91162., 82695., 60434., 80490., 63372., 62865.,  9730.,\n",
       "            0., 56963., 54334., 52338.],\n",
       "       [  498.,   474.,   407.,   261.,   374.,   336.,   581.,   151.,\n",
       "            0.,   798.,   645.,   449.],\n",
       "       [22481., 24109., 20045., 12886., 13732., 10356., 15219.,  3072.,\n",
       "            0., 31239., 29354., 24862.],\n",
       "       [14674., 22752., 18177., 14516., 19962., 15559., 14183.,  2151.,\n",
       "            0., 11841., 10918., 10481.]])"
      ]
     },
     "execution_count": 26,
     "metadata": {
      "tags": []
     },
     "output_type": "execute_result"
    }
   ],
   "source": [
    "comm"
   ]
  },
  {
   "cell_type": "code",
   "execution_count": 0,
   "metadata": {
    "colab": {},
    "colab_type": "code",
    "id": "GgbcxwDFEM_o"
   },
   "outputs": [],
   "source": [
    "ratio=np.ones([4,12])\n",
    "j=0\n",
    "for i in range(4):\n",
    "   for j in range(12):\n",
    "      if sum(comm[:,j])!=0:   \n",
    "        ratio[i][j]=comm[i][j]/sum(comm[:,j])\n",
    "      else:\n",
    "        ratio[i][j]=0"
   ]
  },
  {
   "cell_type": "markdown",
   "metadata": {
    "colab_type": "text",
    "id": "EHIolWev46D5"
   },
   "source": [
    "# Ratio array shape is 4 X 12 which contains monthwise fraction of each category "
   ]
  },
  {
   "cell_type": "code",
   "execution_count": 28,
   "metadata": {
    "colab": {
     "base_uri": "https://localhost:8080/",
     "height": 221
    },
    "colab_type": "code",
    "id": "ckEQdnwMFqkU",
    "outputId": "3e4feace-3d87-417d-8820-ee7a69478725"
   },
   "outputs": [
    {
     "data": {
      "text/plain": [
       "array([[0.63900021, 0.65822364, 0.68160463, 0.68599385, 0.70261352,\n",
       "        0.70709528, 0.67707436, 0.64420021, 0.        , 0.56487936,\n",
       "        0.57042971, 0.59387269],\n",
       "       [0.0047746 , 0.00342246, 0.00335465, 0.00296264, 0.00326472,\n",
       "        0.00374904, 0.00625754, 0.00999735, 0.        , 0.00791345,\n",
       "        0.00677158, 0.00509475],\n",
       "       [0.21553757, 0.17407597, 0.16521875, 0.14627059, 0.11986941,\n",
       "        0.1155507 , 0.16391306, 0.20338983, 0.        , 0.30978471,\n",
       "        0.30817524, 0.28210598],\n",
       "       [0.14068762, 0.16427793, 0.14982196, 0.16477292, 0.17425234,\n",
       "        0.17360499, 0.15275504, 0.14241261, 0.        , 0.11742248,\n",
       "        0.11462347, 0.11892659]])"
      ]
     },
     "execution_count": 28,
     "metadata": {
      "tags": []
     },
     "output_type": "execute_result"
    }
   ],
   "source": [
    "ratio"
   ]
  },
  {
   "cell_type": "markdown",
   "metadata": {
    "colab_type": "text",
    "id": "fOVqbHPo5LQ_"
   },
   "source": [
    "# Plotting the 4 categories with respect to their share each month "
   ]
  },
  {
   "cell_type": "code",
   "execution_count": 48,
   "metadata": {
    "colab": {
     "base_uri": "https://localhost:8080/",
     "height": 312
    },
    "colab_type": "code",
    "id": "-KkjVGBWFres",
    "outputId": "fae2a908-012c-4a74-e455-e171d1ba88cb"
   },
   "outputs": [
    {
     "data": {
      "text/plain": [
       "<matplotlib.legend.Legend at 0x7f6969979710>"
      ]
     },
     "execution_count": 48,
     "metadata": {
      "tags": []
     },
     "output_type": "execute_result"
    },
    {
     "data": {
      "image/png": "[encoded data removed]",
      "text/plain": [
       "<Figure size 432x288 with 1 Axes>"
      ]
     },
     "metadata": {
      "tags": []
     },
     "output_type": "display_data"
    }
   ],
   "source": [
    "plt.plot(np.arange(1,13),ratio[0,:],label='Casual Dress') \n",
    "plt.plot(np.arange(1,13),ratio[1,:],label='Fleece Jacket')\n",
    "plt.plot(np.arange(1,13),ratio[2,:],label='Pullover Sweater')\n",
    "plt.plot(np.arange(1,13),ratio[3,:],label='Sleeveless Blouse')\n",
    "plt.title('Category Share with respect to months')\n",
    "plt.xticks(range(1,13),np.arange(1,13))\n",
    "plt.xlabel('Months')\n",
    "plt.ylabel('Ratio range [0,1]')\n",
    "plt.legend()"
   ]
  },
  {
   "cell_type": "markdown",
   "metadata": {
    "colab_type": "text",
    "id": "mTFHHmbu7-z-"
   },
   "source": [
    "# Curve Analysis\n",
    "\n",
    "## 1. There is 0 sale in the month of September.\n",
    "## 2. It can be seen that Casual Dress has highest demand throughout the year.\n",
    "## 3. Pullover Sweater is more in deman in January to first week of April than Sleeveless Blouse.\n",
    "## 4. From April to mid july, Sleeveless blouse is more in demand than Pullover Sweater.\n",
    "## 5. In the month of August, Pullover sweater is higher in demand. \n",
    "## 5. After September, pullover sweater is again in demand.\n",
    "## 6. Fleece Jacket is in least demand over all year. \n",
    "\n",
    "\n"
   ]
  },
  {
   "cell_type": "code",
   "execution_count": 0,
   "metadata": {
    "colab": {},
    "colab_type": "code",
    "id": "0AMC6n8gn3T7"
   },
   "outputs": [],
   "source": [
    "all_category=[i for i in all_category]"
   ]
  },
  {
   "cell_type": "code",
   "execution_count": 0,
   "metadata": {
    "colab": {},
    "colab_type": "code",
    "id": "_p0S_RVrFue9"
   },
   "outputs": [],
   "source": [
    "def plot_bar_x(i):\n",
    "    # this is for plotting purpose\n",
    "    index = np.arange(12)\n",
    "    plt.bar(index, ratio[i,:])\n",
    "    plt.xlabel('Months', fontsize=10)\n",
    "    plt.ylabel('Ratio', fontsize=10)\n",
    "    #plt.xticks(index, label, fontsize=5, rotation=30)\n",
    "    plt.title(all_category[i])\n",
    "    plt.show()"
   ]
  },
  {
   "cell_type": "markdown",
   "metadata": {
    "colab_type": "text",
    "id": "w6jxG9hX5ZGK"
   },
   "source": [
    "# Plotting indiavidual bar plots for each category"
   ]
  },
  {
   "cell_type": "code",
   "execution_count": 32,
   "metadata": {
    "colab": {
     "base_uri": "https://localhost:8080/",
     "height": 1130
    },
    "colab_type": "code",
    "id": "b3op-1Z3KYKN",
    "outputId": "21e0fcb8-9cd6-472e-9e32-0bf6dd05e7fb"
   },
   "outputs": [
    {
     "data": {
      "image/png": "[encoded data removed]",
      "text/plain": [
       "<Figure size 432x288 with 1 Axes>"
      ]
     },
     "metadata": {
      "tags": []
     },
     "output_type": "display_data"
    },
    {
     "data": {
      "image/png": "[encoded data removed]",
      "text/plain": [
       "<Figure size 432x288 with 1 Axes>"
      ]
     },
     "metadata": {
      "tags": []
     },
     "output_type": "display_data"
    },
    {
     "data": {
      "image/png": "[encoded data removed]",
      "text/plain": [
       "<Figure size 432x288 with 1 Axes>"
      ]
     },
     "metadata": {
      "tags": []
     },
     "output_type": "display_data"
    },
    {
     "data": {
      "image/png": "[encoded data removed]",
      "text/plain": [
       "<Figure size 432x288 with 1 Axes>"
      ]
     },
     "metadata": {
      "tags": []
     },
     "output_type": "display_data"
    }
   ],
   "source": [
    "plot_bar_x(0)\n",
    "plot_bar_x(1)\n",
    "plot_bar_x(2)\n",
    "plot_bar_x(3)\n"
   ]
  }
 ],
 "metadata": {
  "accelerator": "GPU",
  "colab": {
   "collapsed_sections": [],
   "name": "Task_2.ipynb",
   "provenance": [],
   "toc_visible": true,
   "version": "0.3.2"
  },
  "kernelspec": {
   "display_name": "Python 2",
   "language": "python",
   "name": "python2"
  },
  "language_info": {
   "codemirror_mode": {
    "name": "ipython",
    "version": 2
   },
   "file_extension": ".py",
   "mimetype": "text/x-python",
   "name": "python",
   "nbconvert_exporter": "python",
   "pygments_lexer": "ipython2",
   "version": "2.7.16"
  }
 },
 "nbformat": 4,
 "nbformat_minor": 1
}
